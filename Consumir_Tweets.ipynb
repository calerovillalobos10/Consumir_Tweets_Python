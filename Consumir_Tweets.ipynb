{
  "nbformat": 4,
  "nbformat_minor": 0,
  "metadata": {
    "colab": {
      "provenance": [],
      "authorship_tag": "ABX9TyNb53oRXK5MY5k+5Umq3w2U",
      "include_colab_link": true
    },
    "kernelspec": {
      "name": "python3",
      "display_name": "Python 3"
    },
    "language_info": {
      "name": "python"
    }
  },
  "cells": [
    {
      "cell_type": "markdown",
      "metadata": {
        "id": "view-in-github",
        "colab_type": "text"
      },
      "source": [
        "<a href=\"https://colab.research.google.com/github/calerovillalobos10/Consumir_Tweets_Python/blob/main/Consumir_Tweets.ipynb\" target=\"_parent\"><img src=\"https://colab.research.google.com/assets/colab-badge.svg\" alt=\"Open In Colab\"/></a>"
      ]
    },
    {
      "cell_type": "markdown",
      "source": [
        "Registro y Obtención de la API Key:\n",
        "\n",
        "1.   Se debe ingresar al sitio [Twitter](https://developer.twitter.com/)\n",
        "2.   Crear una cuenta de desarrollador y acceder al panel administivo\n",
        "3.   Rellenar la información de Developer agreement & policy. Esto permitirar crear un \"Twitter App\" en el developer portal\n",
        "4.   En el dashboard aparecerá un \"Project App\" determinado en donde se podrá accesar a las Keys necesarias para consumir el API de twitter. *Tomar en cuenta que aparecen solo 1 vez, por lo que se deben guardar*\n",
        "5.   Obtener el API_KEY y el API_SECRET_KEY: dentro del portal de desarrolladores se va a la sección *Project & Apps*, después dentro del proyecto se va a la sección de *Keys and tokens* y se selecciona *Reveal API Key hint*. Se capturan las claves y se guardan para poder ser utilizadas.\n",
        "6.   Obtener el BEARER_TOKEN: se debe ir a la sección *Authentication Tokens* dentro del proyecto, después a *Bearer Token* y presionar el botón de *Generate* para obtener la clave y guardarla.\n",
        "7.   Obtener el ACCESS_TOKEN y el ACCESS_TOKEN_SECRET: se debe ir a la sección *Authentication Tokens* dentro del proyecto, después a *Access Token and Secret* y presionar el botón de *Generate* para obtener las claves y guardarlas. Dentro de esta se van a mostrar tanto el ACCESS_TOKEN como el ACCESS_TOKEN_SECRET."
      ],
      "metadata": {
        "id": "JfUYPyTMQ0Bq"
      }
    },
    {
      "cell_type": "markdown",
      "source": [
        "Se utilizará la librería tweepy para poder consumir el API de twitter y traer datos"
      ],
      "metadata": {
        "id": "_qVwLO3zQ4EO"
      }
    },
    {
      "cell_type": "code",
      "execution_count": null,
      "metadata": {
        "id": "3jlzz4dkQmKZ"
      },
      "outputs": [],
      "source": [
        "!pip install tweepy"
      ]
    },
    {
      "cell_type": "markdown",
      "source": [
        "Se importa la librería para poder utilizar los llamados de los métodos en el código"
      ],
      "metadata": {
        "id": "DexapnhTQ6hE"
      }
    },
    {
      "cell_type": "code",
      "source": [
        "import tweepy\n",
        "import pandas as pd"
      ],
      "metadata": {
        "id": "qWVq9SZAQ9CU"
      },
      "execution_count": null,
      "outputs": []
    },
    {
      "cell_type": "markdown",
      "source": [
        "Se inicializan los claves que se utilizarán para autenticar y poder hacer uso de la API de twitter"
      ],
      "metadata": {
        "id": "orZTbBUZQ--W"
      }
    },
    {
      "cell_type": "code",
      "source": [
        "API_KEY = \"\"\n",
        "API_SECRET_KEY = \"\"\n",
        "BEARER_TOKEN = \"\"\n",
        "ACCESS_TOKEN = \"\"\n",
        "ACCESS_TOKEN_SECRET = \"\""
      ],
      "metadata": {
        "id": "srMQvdSDRBES"
      },
      "execution_count": null,
      "outputs": []
    },
    {
      "cell_type": "markdown",
      "source": [
        "Se realiza la autenticación para poder consumir el api"
      ],
      "metadata": {
        "id": "tX_zeEcSRTz5"
      }
    },
    {
      "cell_type": "code",
      "source": [
        "auth = tweepy.OAuth1UserHandler(\n",
        "    API_KEY,\n",
        "    API_SECRET_KEY,\n",
        "    ACCESS_TOKEN,\n",
        "    ACCESS_TOKEN_SECRET\n",
        ")"
      ],
      "metadata": {
        "id": "FghjVE0DRG4s"
      },
      "execution_count": null,
      "outputs": []
    },
    {
      "cell_type": "code",
      "source": [
        "# Se instancia el tweepy API\n",
        "api = tweepy.API(auth, wait_on_rate_limit=True)"
      ],
      "metadata": {
        "id": "NyDExEJ3RJr5"
      },
      "execution_count": null,
      "outputs": []
    },
    {
      "cell_type": "code",
      "source": [
        "search_query = \"'Elon Musk''fired'-filter:reteeets AND -filter:replies AND -filter:links\"\n",
        "number_of_tweets = 100"
      ],
      "metadata": {
        "id": "H_UdhyNPRLWt"
      },
      "execution_count": null,
      "outputs": []
    },
    {
      "cell_type": "code",
      "source": [
        "try:\n",
        "\n",
        "  # tweets que se recuperaron según los parámetros establecidos\n",
        "  tweets = api.search_tweets(q=search_query, lang=\"es\", count=number_of_tweets, tweet_mode=\"extended\")\n",
        "\n",
        "  # Se extrae algunos atributos del tweet\n",
        "  attributes = [[tweet.user.name, tweet.created_at, tweet.favorite_count, tweet.source, tweet.full_text] for tweet in tweets]\n",
        "\n",
        "  columns = [\"Usuario\", \"Fecha\", \"Likes\", \"Fuente\", \"Tweet\"]\n",
        "\n",
        "  tweets_df = pd.DataFrame(attributes, columns=columns)\n",
        "except BaseException as e:\n",
        "  print('Hubo un fallo: ', str(e))"
      ],
      "metadata": {
        "id": "oLaMKjdIRMue"
      },
      "execution_count": null,
      "outputs": []
    },
    {
      "cell_type": "code",
      "source": [
        "tweets_df"
      ],
      "metadata": {
        "id": "Xc-E7UdLROZT"
      },
      "execution_count": null,
      "outputs": []
    }
  ]
}